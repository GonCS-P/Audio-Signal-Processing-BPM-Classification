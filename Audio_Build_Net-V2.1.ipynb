{
 "cells": [
  {
   "cell_type": "code",
   "execution_count": 147,
   "metadata": {},
   "outputs": [],
   "source": [
    "from scipy.io import wavfile\n",
    "from os import  listdir,path,rename,remove\n",
    "from scipy import signal\n",
    "from pydub import AudioSegment\n",
    "#from pylab import specgram\n",
    "from matplotlib.pyplot import specgram,pcolormesh,ylabel,xlabel,show,plot,title,savefig,axis,figure,Axes\n",
    "from matplotlib.colors import Normalize\n",
    "from time import time\n",
    "from math import sqrt\n",
    "from os import makedirs\n",
    "import numpy\n",
    "import math"
   ]
  },
  {
   "cell_type": "markdown",
   "metadata": {},
   "source": [
    "# עיבוד השמע ומציאת פרמטרים"
   ]
  },
  {
   "cell_type": "code",
   "execution_count": 201,
   "metadata": {},
   "outputs": [],
   "source": [
    "def processing(file_name,weights,directory):\n",
    "    AudioSegment.from_mp3(directory+'/'+file_name).export(directory+'/'+file_name[:-4]+'.wav', format=\"wav\")\n",
    "    sample_rate, samples = wavfile.read(directory+'/'+file_name[:-4]+'.wav')\n",
    "    remove(directory+'/'+file_name[:-4]+'.wav')\n",
    "    try:\n",
    "        samples=numpy.int16(samples[:,0]/2+samples[:,1]/2)     #אם השיר הוא סטריאו תהפוך אותו למונו\n",
    "    except:\n",
    "        pass                                                   #אם השיר הוא מונו, תמשיך\n",
    "#    timegrouping=2048                                          #מספר המדידות ביחידת זמן של הספקטורגרם\n",
    "#    freqgroups=(92681.90003/sqrt(timegrouping))                #מספר יחידות התדירות בספקטורגרם\n",
    "#    f, t, Sxx = signal.spectrogram(samples,sample_rate,nperseg=timegrouping,nfft=freqgroups)\n",
    "#    BPMin=70.5\n",
    "#    BPMax=2*BPMin\n",
    "#    Frange=[0,80,250,500,2000,4000,6000,max(f)]\n",
    "#    BPMs=[]\n",
    "#    Energies=[]\n",
    "#    for delay in range(int(round(60/(BPMax*(t[1]-t[0]))-0.5)),int(round(60/(BPMin*(t[1]-t[0]))-0.5))):#בעבור מספר קצבים שונים\n",
    "#        Energies.append((Sxx[int(round(Frange[-2]/(f[1]-f[0]))):int(round(Frange[-1]/(f[1]-f[0]))),:len(t)-delay]*\n",
    "#            Sxx[int(round(Frange[-2]/(f[1]-f[0]))):int(round(Frange[-1]/(f[1]-f[0]))),delay:len(t)]).sum())\n",
    "#                                         #תוסיף לרשימת האנרגיות את מכפלת האמפליטודה, בעבור התדרים הגבוהים, באמפליטודה בדיליי\n",
    "#        BPMs.append(60/t[delay])\n",
    "#    initial_BPM=BPMs[Energies.index(max(Energies))]            #התדירות בה המכפלה יצאה הגדולה ביותר בתחום התדר הגבוה\n",
    "#    timegrouping=3276800/initial_BPM**2\n",
    "#    freqgroups=(92681.90003/sqrt(timegrouping))\n",
    "#    HPF=initial_BPM-initial_BPM/8\n",
    "#    LPF=initial_BPM+initial_BPM/8\n",
    "#    Energies=[]\n",
    "#    BPM=[]\n",
    "#    for i in range(len(Frange)-1):                             #בעבור כל תחומי התדר השונים\n",
    "#        BPMs=[]\n",
    "#        Energies=[]\n",
    "#        for delay in range(int(round(60/(LPF*(t[1]-t[0]))-0.5)),int(round(60/(HPF*(t[1]-t[0]))-0.5))):#בעבור מספר קצבים שונים\n",
    "#            Energies.append((Sxx[int(round(Frange[i]/(f[1]-f[0]))):int(round(Frange[i+1]/(f[1]-f[0]))),:len(t)-delay]*\n",
    "#                Sxx[int(round(Frange[i]/(f[1]-f[0]))):int(round(Frange[i+1]/(f[1]-f[0]))),delay:len(t)]).sum())\n",
    "#                                          #תוסיף לרשימת האנרגיות את מכפלת האמפליטודה, בעבור תחום התדר הרלוונטי, באמפליטודה בדיליי\n",
    "#            BPMs.append(60/t[delay])\n",
    "#        BPM.append(BPMs[Energies.index(max(Energies))])\n",
    "#    result=numpy.average(BPM,weights=weights)                  #התדירות המשוערת\n",
    "#    if (BPMin>result):                                         #אם התדירות קטנה מדי\n",
    "#        result=result*2\n",
    "#    elif (result>BPMax):                                       #אם התדירות גדולה מדי\n",
    "#        result=result/2\n",
    "        \n",
    "        \n",
    "    timegrouping=2**10                           #מספר המדידות ביחידת זמן של הספקטורגרם\n",
    "    freqgroups=(1.0*timegrouping)                #מספר יחידות התדירות בספקטורגרם\n",
    "    f, t, Sxx = signal.spectrogram(samples,sample_rate,nperseg=timegrouping,nfft=freqgroups)\n",
    "    mel=[]\n",
    "    for i in f:\n",
    "        mel.append(2595*math.log(1+i/700,10))\n",
    "    Sxx=numpy.log(Sxx)\n",
    "    n=0\n",
    "    while int((n+1)*len(Sxx[0])/390*3)<=len(Sxx[0]):\n",
    "        numpy.save(file_name[:-4]+str(n),Sxx[:,int(n*len(Sxx[0])/390*3):int((n+1)*len(Sxx[0])/390*3)])\n",
    "        n+=1\n",
    "        \n",
    "        \n",
    "        \n",
    "        \n",
    "#    if (result<group[0]):\n",
    "#        rename(directory+\"/\"+file_name,directory+\"/\"+str(group[0])+\" to \"+str(group[1])+\"/\"+file_name)#העברת בשיר לתיקייה הרצוייה\n",
    "#    elif (result>group[-1]):\n",
    "#        rename(directory+\"/\"+file_name,directory+\"/\"+str(group[-2])+\" to \"+str(group[-1])+\"/\"+file_name)#העברת בשיר לתיקייה הרצוייה\n",
    "#    else:\n",
    "#        for i in range(len(group)-1):\n",
    "#            if (group[i]<=result<group[i+1]):\n",
    "#                rename(directory+\"/\"+file_name,directory+\"/\"+str(group[i])+\" to \"+str(group[i+1])+\"/\"+file_name)#העברת בשיר לתיקייה הרצוייה\n",
    "#                break\n",
    "#        if (result==group[-1]):\n",
    "#            rename(directory+\"/\"+file_name,directory+\"/\"+str(group[i])+\" to \"+str(group[i+1])+\"/\"+file_name)#העברת בשיר לתיקייה הרצוייה"
   ]
  },
  {
   "cell_type": "markdown",
   "metadata": {},
   "source": [
    "# הרצת הקוד חד\"פ"
   ]
  },
  {
   "cell_type": "code",
   "execution_count": 202,
   "metadata": {
    "scrolled": false
   },
   "outputs": [
    {
     "name": "stderr",
     "output_type": "stream",
     "text": [
      "C:\\Users\\Gon\\Anaconda3\\lib\\site-packages\\ipykernel_launcher.py:51: RuntimeWarning: divide by zero encountered in log\n"
     ]
    }
   ],
   "source": [
    "file_name=\"Eagles - Hotel California.mp3\"\n",
    "processing(file_name,weights=numpy.load('weights.npy'),directory=\"C:/Users/Gon/Music/גיבוי/70.5 to 83\")"
   ]
  },
  {
   "cell_type": "code",
   "execution_count": null,
   "metadata": {},
   "outputs": [],
   "source": [
    "temp"
   ]
  },
  {
   "cell_type": "code",
   "execution_count": 6,
   "metadata": {},
   "outputs": [
    {
     "data": {
      "text/plain": [
       "0.2"
      ]
     },
     "execution_count": 6,
     "metadata": {},
     "output_type": "execute_result"
    }
   ],
   "source": [
    "a=[[1,2,3],[1,0.2,0.2],[1,2,4]]\n",
    "numpy.log(a)\n",
    "a[1][2]"
   ]
  },
  {
   "cell_type": "markdown",
   "metadata": {
    "collapsed": true
   },
   "source": [
    "# הרצת עיבוד השמע עבור כל השירים"
   ]
  },
  {
   "cell_type": "code",
   "execution_count": null,
   "metadata": {},
   "outputs": [],
   "source": [
    "input_dir=\"C:/Users/Gon/Music/Audio\"\n",
    "directory=input_dir\n",
    "def update(directory):\n",
    "    groups=3\n",
    "    group=[70.5]\n",
    "    for i in range(1,groups):\n",
    "        group.append(int(70.5**(math.log(141,70.5)**(i/groups))))#ערכי תחומי התיקיות\n",
    "    group.append(141)\n",
    "    for n in range(len(group)-1):                                                 #בעבור כל תחומי התדר\n",
    "        if not path.exists(directory+\"/\"+str(group[n])+\" to \"+str(group[n+1])):   #אם לא קיימת תיקייה בשם הזה\n",
    "            makedirs(directory+\"/\"+str(group[n])+\" to \"+str(group[n+1]))          #יוצר את התקייה\n",
    "    done=0\n",
    "    total=0\n",
    "    for file_name in listdir(directory):                #בודק כמה תמונות יש בתקייה\n",
    "        if (file_name[-4:].lower()=='.mp3'):\n",
    "            total+=1\n",
    "    start=time()\n",
    "    weights=numpy.load('weights.npy')\n",
    "    for file_name in listdir(input_dir):                #בעבור כל קובץ בתקייה\n",
    "        if (file_name[-4:].lower()=='.mp3'):            #אם הקובץ הוא שיר\n",
    "            processing(file_name,group,weights,directory)\n",
    "        \n",
    "        \n",
    "        \n",
    "print (int(time()-start),'secs')"
   ]
  },
  {
   "cell_type": "markdown",
   "metadata": {},
   "source": [
    "# BPM-מציאת ה"
   ]
  },
  {
   "cell_type": "code",
   "execution_count": null,
   "metadata": {},
   "outputs": [],
   "source": [
    "polished_data = numpy.load('polished_data.npy')\n",
    "#lesismors=[]\n",
    "good=0\n",
    "for pp in range(400):\n",
    "    numpy.random.shuffle(polished_data)\n",
    "    x=polished_data[:,:7]                               #inputs\n",
    "    y=polished_data[:,7]                                #outputs\n",
    "    lesismor=[]\n",
    "    a=[]\n",
    "    for i in range(7):\n",
    "        a.append(1)        \n",
    "    count=0\n",
    "    for l in range(len(x)):\n",
    "        for c in range(len(x[0])):\n",
    "            a[c]*=0.5+1/(1+numpy.exp(abs(x[l,c]-y[l])))\n",
    "    for l in range(len(x)):\n",
    "        if(abs(numpy.average(x[l],weights=a)-y[l])<y[l]/8):\n",
    "            good+=1\n",
    "#print(numpy.mean(bb))\n",
    "numpy.save('weights', a)\n",
    "print(good/len(x)/400)\n",
    "    #            count+=1\n",
    "    #    lesismor.append(count/len(y_test))\n",
    "    #lesismors.append(lesismor)\n",
    "#plot(numpy.arange(s,e),numpy.mean(lesismors,axis=0))\n",
    "#ylabel('Error rate')\n",
    "#xlabel('Factor')\n",
    "#show()\n"
   ]
  },
  {
   "cell_type": "code",
   "execution_count": null,
   "metadata": {},
   "outputs": [],
   "source": []
  }
 ],
 "metadata": {
  "kernelspec": {
   "display_name": "Python 3",
   "language": "python",
   "name": "python3"
  },
  "language_info": {
   "codemirror_mode": {
    "name": "ipython",
    "version": 3
   },
   "file_extension": ".py",
   "mimetype": "text/x-python",
   "name": "python",
   "nbconvert_exporter": "python",
   "pygments_lexer": "ipython3",
   "version": "3.6.4"
  }
 },
 "nbformat": 4,
 "nbformat_minor": 2
}
