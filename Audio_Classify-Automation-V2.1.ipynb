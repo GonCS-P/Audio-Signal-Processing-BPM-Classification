{
 "cells": [
  {
   "cell_type": "markdown",
   "metadata": {},
   "source": [
    "# Works (except for delete synchronization)"
   ]
  },
  {
   "cell_type": "code",
   "execution_count": 1,
   "metadata": {},
   "outputs": [],
   "source": [
    "from scipy.io.wavfile import read \n",
    "from os import  listdir,rename,remove,makedirs,path\n",
    "from os.path import exists\n",
    "from scipy.signal import spectrogram\n",
    "from pydub import AudioSegment\n",
    "from time import time, sleep\n",
    "from math import sqrt, log\n",
    "from numpy import int16, average, save, load\n",
    "from _thread import start_new_thread\n",
    "from tkinter.filedialog import askdirectory\n",
    "from sys import exc_info\n",
    "from subprocess import check_output,call\n",
    "from mutagen.id3 import ID3,TPE1,TIT2,TCON,ID3NoHeaderError\n",
    "import tkinter.ttk"
   ]
  },
  {
   "cell_type": "markdown",
   "metadata": {},
   "source": [
    "# סינכרון עם הטלפון"
   ]
  },
  {
   "cell_type": "code",
   "execution_count": 2,
   "metadata": {},
   "outputs": [],
   "source": [
    "def trans(directory):\n",
    "    phones=[]                                                                                           #רשימת השירים על הטלפון\n",
    "                       \n",
    "       \n",
    "              #רשימת השירים שיש בטלפון\n",
    "    def phone_songs(phones):        \n",
    "        try:\n",
    "            garbage_phone = check_output(\"adb shell ls -n '/sdcard/Music'\",encoding=\"850\")\n",
    "            for file_name in garbage_phone.splitlines():\n",
    "                if (file_name[-4:].lower()=='.mp3'):                                                      #אם הקובץ הוא שיר\n",
    "                    try:\n",
    "                        file_name.index('  ')\n",
    "                        phones.append([file_name.split(' ')[5],' '.join(file_name.split(' ')[8:])])\n",
    "                    except:\n",
    "                        phones.append([file_name.split(' ')[4],' '.join(file_name.split(' ')[7:])])                    \n",
    "        except:\n",
    "            print(exc_info()[1])\n",
    "            pass\n",
    "        save('old_songs', phones)\n",
    "        return(phones)\n",
    "    \n",
    "                \n",
    "            #מוחק שירים שנמצאים שלא נמצאים בטלפון ונמצאים במחשב מהמחשב (שנמחקו ממנו\n",
    "    try:                                #יוזר ישן\n",
    "        1/0\n",
    "    except:                             #יוזר חדש\n",
    "        phone_songs(phones)\n",
    "        pass\n",
    "\n",
    "    \n",
    "            #מעביר שירים חדשים לטלפון\n",
    "    for file_name in listdir(directory):\n",
    "        if (file_name[-4:].lower()=='.mp3'):                                                     #אם הקובץ הוא שיר\n",
    "            k=1                                                                                  #לא נמצא קובץ באותו המשקל\n",
    "            p=0                                                                                  #מספר שורה\n",
    "            while(k==1 and p<len(phones)):\n",
    "                if (phones[p][1].lower()==file_name.lower()):\n",
    "                    k=0                                                                          #נמצא קובץ באותו המשקל\n",
    "                p+=1\n",
    "            if (k==1):\n",
    "                p=0                                                                              #מספר שורה\n",
    "                while(k==1 and p<len(phones)):\n",
    "                    if (int(phones[p][0])==path.getsize(directory+'/'+file_name)):\n",
    "                        k=0                                                                      #נמצא קובץ באותו המשקל\n",
    "                    p+=1\n",
    "                if (k==1):\n",
    "                    a=check_output('adb push \"'+directory+'/'+file_name+'\" /sdcard/Music')\n",
    "                    print('pushing:',file_name,' ', path.getsize(directory+'/'+file_name))\n",
    "                            \n",
    "                    \n",
    "                    \n",
    "            #refresh the connection\n",
    "    phone_name=check_output('adb devices').decode('utf-8').splitlines()[1]\n",
    "    phone_name=phone_name[:phone_name.index('\\t')]\n",
    "    check_output('adb -s '+phone_name+' reconnect')"
   ]
  },
  {
   "cell_type": "markdown",
   "metadata": {},
   "source": [
    "# עיבוד השמע"
   ]
  },
  {
   "cell_type": "code",
   "execution_count": 3,
   "metadata": {},
   "outputs": [],
   "source": [
    "def processing(file_name,group,group_name,weights,directory):\n",
    "    AudioSegment.from_mp3(directory+'/'+file_name).export(directory+'/'+file_name[:-4]+'.wav',format=\"wav\")\n",
    "    sample_rate, samples = read(directory+'/'+file_name[:-4]+'.wav')\n",
    "    remove(directory+'/'+file_name[:-4]+'.wav')\n",
    "    try:\n",
    "        samples=int16(samples[:,0]/2+samples[:,1]/2)     #אם השיר הוא סטריאו תהפוך אותו למונו\n",
    "    except:\n",
    "        pass                                                   #אם השיר הוא מונו, תמשיך\n",
    "    timegrouping=2048                                          #מספר המדידות ביחידת זמן של הספקטורגרם\n",
    "    freqgroups=(92681.90003/sqrt(timegrouping))                #מספר יחידות התדירות בספקטורגרם\n",
    "    f, t, Sxx = spectrogram(samples,sample_rate,nperseg=timegrouping,nfft=freqgroups)\n",
    "    BPMin=70.5\n",
    "    BPMax=2*BPMin\n",
    "    Frange=[0,80,250,500,2000,4000,6000,max(f)]\n",
    "    BPMs=[]\n",
    "    Energies=[]\n",
    "    for delay in range(int(round(60/(BPMax*(t[1]-t[0]))-0.5)),int(round(60/(BPMin*(t[1]-t[0]))-0.5))):#בעבור מספר קצבים שונים\n",
    "        Energies.append((Sxx[int(round(Frange[-2]/(f[1]-f[0]))):int(round(Frange[-1]/(f[1]-f[0]))),:len(t)-delay]*\n",
    "            Sxx[int(round(Frange[-2]/(f[1]-f[0]))):int(round(Frange[-1]/(f[1]-f[0]))),delay:len(t)]).sum())\n",
    "                                         #תוסיף לרשימת האנרגיות את מכפלת האמפליטודה, בעבור התדרים הגבוהים, באמפליטודה בדיליי\n",
    "        BPMs.append(60/t[delay])\n",
    "    initial_BPM=BPMs[Energies.index(max(Energies))]            #התדירות בה המכפלה יצאה הגדולה ביותר בתחום התדר הגבוה\n",
    "    timegrouping=3276800/initial_BPM**2\n",
    "    freqgroups=(92681.90003/sqrt(timegrouping))\n",
    "    HPF=initial_BPM-initial_BPM/8\n",
    "    LPF=initial_BPM+initial_BPM/8\n",
    "    Energies=[]\n",
    "    BPM=[]\n",
    "    for i in range(len(Frange)-1):                             #בעבור כל תחומי התדר השונים\n",
    "        BPMs=[]\n",
    "        Energies=[]\n",
    "        for delay in range(int(round(60/(LPF*(t[1]-t[0]))-0.5)),int(round(60/(HPF*(t[1]-t[0]))-0.5))):#בעבור מספר קצבים שונים\n",
    "            Energies.append((Sxx[int(round(Frange[i]/(f[1]-f[0]))):int(round(Frange[i+1]/(f[1]-f[0]))),:len(t)-delay]*\n",
    "                Sxx[int(round(Frange[i]/(f[1]-f[0]))):int(round(Frange[i+1]/(f[1]-f[0]))),delay:len(t)]).sum())\n",
    "                                          #תוסיף לרשימת האנרגיות את מכפלת האמפליטודה, בעבור תחום התדר הרלוונטי, באמפליטודה בדיליי\n",
    "            BPMs.append(60/t[delay])\n",
    "        BPM.append(BPMs[Energies.index(max(Energies))])\n",
    "    result=average(BPM,weights=weights)                  #התדירות המשוערת\n",
    "    if (BPMin>result):                                         #אם התדירות קטנה מדי\n",
    "        result=result*2\n",
    "    elif (result>BPMax):                                       #אם התדירות גדולה מדי\n",
    "        result=result/2\n",
    "    for i in range(len(group)-1):                              #הלולאה מה משנים את הז'אנר\n",
    "        if (group[i]<=result<group[i+1]):\n",
    "            audio=ID3(str(directory+\"/\"+file_name))\n",
    "            audio[\"TCON\"]=TCON(text=group_name[i])\n",
    "            audio.save()             \n",
    "            break\n",
    "    if (result==group[-1]):\n",
    "        audio=ID3(str(directory+\"/\"+file_name))\n",
    "        audio[\"TCON\"]=TCON(text=group_name[-1])\n",
    "        audio.save()             "
   ]
  },
  {
   "cell_type": "markdown",
   "metadata": {
    "collapsed": true
   },
   "source": [
    "# הרצת עיבוד השמע עבור כל השירים"
   ]
  },
  {
   "cell_type": "code",
   "execution_count": 4,
   "metadata": {},
   "outputs": [
    {
     "name": "stdout",
     "output_type": "stream",
     "text": [
      "Command 'adb shell ls -n '/sdcard/Music'' returned non-zero exit status 1.\n"
     ]
    }
   ],
   "source": [
    "root=tkinter.Tk()\n",
    "root.title(\"Songs BPM Classifier\")\n",
    "root.geometry('400x200')\n",
    "root.progress=tkinter.ttk.Progressbar(root,orient=\"horizontal\",length=200,mode=\"determinate\")\n",
    "label1=tkinter.Label(root,text=\"Please choose unclassified directory\")\n",
    "def behind():\n",
    "    sleep(0.001)\n",
    "    root.update()\n",
    "def update(directory,groups):\n",
    "    try:\n",
    "        group=[70.5]\n",
    "        for i in range(1,groups):\n",
    "            group.append(int(70.5**(log(141,70.5)**(i/groups))))                 #ערכי תחומי התיקיות\n",
    "        group.append(141)\n",
    "        if (groups==3):\n",
    "            group_name=['Chillz','Casual','Boost']\n",
    "        elif (groups==4):\n",
    "            group_name=['Chillz','Casual','Warm Up','Boost']\n",
    "        else:\n",
    "            group_name=['Sleep','Chillz','Casual','Warm Up','Boost']\n",
    "        done=0\n",
    "        total=0\n",
    "        for file_name in listdir(directory):                #בודק כמה תמונות יש בתקייה\n",
    "            if (file_name[-4:].lower()=='.mp3'):\n",
    "                try:\n",
    "                    audio=ID3(str(directory+\"/\"+file_name))\n",
    "                    audio[\"TCON\"]\n",
    "                except:\n",
    "                    total+=1     \n",
    "        if (total==0):                                          #אם התוכנה כבר קיטלגה את כל השירים\n",
    "            label1['text']=\"Syncing songs\"\n",
    "            trans(directory)\n",
    "            label1['text']=\"Done\"\n",
    "        else:                                                   #אם ישנם שירים חסרי ז'אנר שצריך לקטלג\n",
    "            start=time()\n",
    "            weights=[6.80334738e-24,1.84428939e-23,3.52887836e-23,2.11613410e-23,2.59560180e-22,1.48475353e-22,2.51389276e-23]\n",
    "            for file_name in listdir(directory):                #בעבור כל קובץ בתקייה\n",
    "                if (file_name[-4:].lower()=='.mp3'):            #אם הקובץ הוא שיר\n",
    "                    try:                                        #אם לשיר אין ז'אנר \n",
    "                        audio=ID3(str(directory+\"/\"+file_name))\n",
    "                        audio[\"TCON\"]                           \n",
    "                    except:\n",
    "                        processing(file_name,group,group_name,weights,directory)\n",
    "                        done+=1\n",
    "                        root.progress['value']=done/total*100\n",
    "                        if (60<int((time()-start)/(done/total)-(time()-start))):\n",
    "                            label1['text']=\"Estimated time: \"+str(int(((time()-start)/(done/total)-(time()-start))/60))+\" minutes & \"+str(int(((time()-start)/(done/total)-(time()-start))%60))+\" seconds   \"\n",
    "                        else:\n",
    "                            label1['text']=\"Estimated time: \"+str(int((time()-start)/(done/total)-(time()-start)))+\" seconds   \"\n",
    "                    root.update_idletasks()                     #מעדכן את פלט התוכנה\n",
    "            label1['text']=\"Syncing songs\"\n",
    "            trans(directory)\n",
    "            label1['text']=\"Done\"\n",
    "    except:\n",
    "        label1['text']=exc_info()[1]\n",
    "def helloCallBack():\n",
    "    directory=askdirectory()\n",
    "    groups=scale1.get()\n",
    "    start_new_thread(update,(directory,groups))\n",
    "    start_new_thread(behind,())\n",
    "    label1['text']=\"runing...\"\n",
    "tkinter.Button(text =\"Please choose input directory\", command = helloCallBack).pack()\n",
    "tkinter.Label(root, text=\"Number of songs groups:\").pack()\n",
    "scale1=tkinter.Scale(root,from_=2.0, to_=6.0, orient=\"horizontal\", length=200)\n",
    "scale1.set(4)\n",
    "scale1.pack()\n",
    "root.progress.pack()\n",
    "label1.pack()\n",
    "tkinter.Label(root, text=\"\\n\\nAll rights reserved to Gon Eyal©\").pack()\n",
    "root.mainloop()"
   ]
  },
  {
   "cell_type": "code",
   "execution_count": 5,
   "metadata": {},
   "outputs": [
    {
     "name": "stdout",
     "output_type": "stream",
     "text": [
      "0\n"
     ]
    }
   ],
   "source": [
    "try:\n",
    "    d=\"C:/Users/Gon/Downloads\"\n",
    "    a=0\n",
    "    for file_name in listdir(d):                \n",
    "        if (file_name[-4:].lower()=='.mp3'):            \n",
    "            try:                                      \n",
    "                audio=ID3(str(d+\"/\"+file_name))\n",
    "                audio[\"TCON\"]                           \n",
    "            except:\n",
    "                a+=1\n",
    "except:print('1')\n",
    "print(a)"
   ]
  },
  {
   "cell_type": "code",
   "execution_count": null,
   "metadata": {},
   "outputs": [],
   "source": []
  }
 ],
 "metadata": {
  "kernelspec": {
   "display_name": "Python 3",
   "language": "python",
   "name": "python3"
  },
  "language_info": {
   "codemirror_mode": {
    "name": "ipython",
    "version": 3
   },
   "file_extension": ".py",
   "mimetype": "text/x-python",
   "name": "python",
   "nbconvert_exporter": "python",
   "pygments_lexer": "ipython3",
   "version": "3.6.13"
  }
 },
 "nbformat": 4,
 "nbformat_minor": 2
}
